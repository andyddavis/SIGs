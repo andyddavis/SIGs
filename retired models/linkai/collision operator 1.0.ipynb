{
 "cells": [
  {
   "cell_type": "code",
   "execution_count": 177,
   "id": "81f3249c",
   "metadata": {},
   "outputs": [],
   "source": [
    "import numpy as np \n",
    "import pandas as pd\n",
    "from itertools import combinations\n",
    "import matplotlib.pyplot as plt\n",
    "delta =0.1\n",
    "number_of_particles=5000\n",
    "number_of_pairs = 500\n",
    "with_wind_or_not = 1\n",
    "large_or_small=1\n",
    "time_to_observe=100"
   ]
  },
  {
   "cell_type": "code",
   "execution_count": 178,
   "id": "ed61298c",
   "metadata": {},
   "outputs": [],
   "source": [
    "class Particle:\n",
    "\n",
    "    def __init__(self, time, vel, pos):\n",
    "        self.time = time\n",
    "        self.vel = vel\n",
    "        self.pos = pos \n",
    "        # vel is a numpy array representing velocity\n",
    "        # pos is a numpy array representing position\n",
    "    def display_info (self):\n",
    "        print('Time: %.2f' % self.time)\n",
    "        print('Position: %.2f, %.2f' % (self.pos[0], self.pos[1]))\n",
    "        print('Velocity: %.2f, %.2f' % (self.vel[0], self.vel[1]))        \n",
    "    def increase_time (self):\n",
    "        self.time = self.time+ delta"
   ]
  },
  {
   "cell_type": "code",
   "execution_count": 179,
   "id": "76a3c05c",
   "metadata": {},
   "outputs": [],
   "source": [
    "def collide_particle (particle1, particle2):\n",
    "    import random\n",
    "    angle_of_attack = 2*np.pi* random.random()\n",
    "    v1=particle1.vel\n",
    "    v2=particle2.vel\n",
    "    \n",
    "    pos_diff=np.array([np.cos(angle_of_attack),np.sin(angle_of_attack)])\n",
    "    value=np.dot(v1-v2,pos_diff)\n",
    "    new_v1=v1-value*pos_diff\n",
    "    new_v2=v2+value*pos_diff\n",
    "    particle1.vel=new_v1\n",
    "    particle2.vel=new_v2\n",
    "    particle1.increase_time()\n",
    "    particle2.increase_time()"
   ]
  },
  {
   "cell_type": "code",
   "execution_count": 180,
   "id": "ca52fc5f",
   "metadata": {},
   "outputs": [],
   "source": [
    "def collide_particle_wind (particle1, particle2, wind):\n",
    "    import random\n",
    "    angle_of_attack = 2*np.pi* random.random()\n",
    "    v1=particle1.vel\n",
    "    v2=particle2.vel\n",
    "    \n",
    "    pos_diff=np.array([np.cos(angle_of_attack),np.sin(angle_of_attack)])\n",
    "    value=np.dot(v1-v2,pos_diff)\n",
    "    new_v1=v1-value*pos_diff\n",
    "    new_v2=v2+value*pos_diff\n",
    "    particle1.vel=new_v1+wind\n",
    "    particle2.vel=new_v2+wind\n",
    "    particle1.increase_time()\n",
    "    particle2.increase_time()"
   ]
  },
  {
   "cell_type": "code",
   "execution_count": 181,
   "id": "367a75af",
   "metadata": {},
   "outputs": [],
   "source": [
    "class Node:\n",
    "    \n",
    "    def __init__ (self, time, pos, particles):\n",
    "        self.time = time\n",
    "        self.pos  = pos\n",
    "        self.particles = particles\n",
    "        # particles is an numpy array of Particles\n",
    "    def display_info (self):\n",
    "        print('Time: %.2f' % self.time)\n",
    "        print('Position: %.2f, %.2f' % (self.pos[0], self.pos[1]))\n",
    "        print('The particles within this node: ')\n",
    "        for i in self.particles:\n",
    "            print('++++++++++++++++++++++++++++++++++++++++++++')\n",
    "            i.display_info()\n",
    "            print('++++++++++++++++++++++++++++++++++++++++++++')        \n",
    "    def collide_node (self,number_of_pairs):\n",
    "        self.time=self.time+ delta\n",
    "        # This function takes in the number of pairs of particles to collide\n",
    "        index=list(range(len(self.particles)))\n",
    "        pairs=[]\n",
    "        import random\n",
    "        for i in range(number_of_pairs):\n",
    "            new_pair=list(random.sample(index,2))\n",
    "            pairs.append(new_pair)\n",
    "            index=list(set(index)-set(new_pair))\n",
    "        for i in pairs:\n",
    "            collide_particle(self.particles[i[0]],self.particles[i[1]])   \n",
    "    def collide_node_wind (self,number_of_pairs,wind):\n",
    "        self.time=self.time+ delta\n",
    "        # This function takes in the number of pairs of particles to collide\n",
    "        index=list(range(len(self.particles)))\n",
    "        pairs=[]\n",
    "        import random\n",
    "        for i in range(number_of_pairs):\n",
    "            new_pair=list(random.sample(index,2))\n",
    "            pairs.append(new_pair)\n",
    "            index=list(set(index)-set(new_pair))\n",
    "        for i in pairs:\n",
    "            collide_particle_wind(self.particles[i[0]],self.particles[i[1]],wind)  \n",
    "    def hist (self,number,):\n",
    "        space=[]\n",
    "        for i in self.particles:\n",
    "            space.append(i.vel)\n",
    "        space=np.array(space)\n",
    "        x=space[:,0]\n",
    "        y=space[:,1]\n",
    "        if(large_or_small>0):\n",
    "            plt.hist2d(x, y,bins=(100,100))\n",
    "        else:\n",
    "            plt.hist2d(x, y,bins=(10,10))\n",
    "        plt.title(\"2D Histogram #\"+str(number))\n",
    "        plt.savefig(\"simu_hist\"+str(number)+\".png\")            "
   ]
  },
  {
   "cell_type": "markdown",
   "id": "c6f70afe",
   "metadata": {},
   "source": [
    "Then initialize some particles with velocities following 2D Gaussian Distribution"
   ]
  },
  {
   "cell_type": "code",
   "execution_count": 182,
   "id": "b436e45c",
   "metadata": {},
   "outputs": [],
   "source": [
    "#Generate an array of velocities following the 2D Gaussian Distribution with mean of x and y 1, covariace matrix being the identity matrix\n",
    "velocities=np.random.multivariate_normal([1,1],[[1,0],[0,1]],number_of_particles)"
   ]
  },
  {
   "cell_type": "code",
   "execution_count": 183,
   "id": "4f2806f4",
   "metadata": {},
   "outputs": [],
   "source": [
    "#Generate a new node named Node1\n",
    "Node1=Node(0,[1,1],[])"
   ]
  },
  {
   "cell_type": "code",
   "execution_count": 184,
   "id": "2f397b2e",
   "metadata": {},
   "outputs": [],
   "source": [
    "#Put all the particles into Node1\n",
    "for i in range(number_of_particles):\n",
    "    new_particle= Particle(0,velocities[i],np.array([1,1]))\n",
    "    lst=Node1.particles\n",
    "    lst.append(new_particle)\n",
    "    Node1.particles=lst"
   ]
  },
  {
   "cell_type": "markdown",
   "id": "1bdd7705",
   "metadata": {},
   "source": [
    "Now for each time step, randomly select pairs of particles at the node to collide with each other."
   ]
  },
  {
   "cell_type": "code",
   "execution_count": 185,
   "id": "8b86b7cc",
   "metadata": {
    "scrolled": true
   },
   "outputs": [
    {
     "data": {
      "image/png": "[encoded data removed]",
      "text/plain": [
       "<Figure size 432x288 with 1 Axes>"
      ]
     },
     "metadata": {
      "needs_background": "light"
     },
     "output_type": "display_data"
    }
   ],
   "source": [
    "for i in range (time_to_observe):\n",
    "    if (with_wind_or_not>0):\n",
    "        Node1.collide_node_wind(number_of_pairs,np.array([0.1,0.1]))\n",
    "    else:\n",
    "        Node1.collide_node(number_of_pairs)\n",
    "    Node1.hist(i)"
   ]
  }
 ],
 "metadata": {
  "kernelspec": {
   "display_name": "Python 3",
   "language": "python",
   "name": "python3"
  },
  "language_info": {
   "codemirror_mode": {
    "name": "ipython",
    "version": 3
   },
   "file_extension": ".py",
   "mimetype": "text/x-python",
   "name": "python",
   "nbconvert_exporter": "python",
   "pygments_lexer": "ipython3",
   "version": "3.8.8"
  }
 },
 "nbformat": 4,
 "nbformat_minor": 5
}
